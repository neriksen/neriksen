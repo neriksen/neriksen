{
 "cells": [
  {
   "cell_type": "code",
   "execution_count": 10,
   "metadata": {
    "scrolled": true
   },
   "outputs": [
    {
     "ename": "FileNotFoundError",
     "evalue": "[Errno 2] No such file or directory: '/var/www/quant/applied_finance'",
     "output_type": "error",
     "traceback": [
      "\u001b[0;31m---------------------------------------------------------------------------\u001b[0m",
      "\u001b[0;31mFileNotFoundError\u001b[0m                         Traceback (most recent call last)",
      "\u001b[0;32m<ipython-input-10-70ef1240023d>\u001b[0m in \u001b[0;36m<module>\u001b[0;34m\u001b[0m\n\u001b[1;32m     12\u001b[0m \u001b[0;32mimport\u001b[0m \u001b[0mos\u001b[0m\u001b[0;34m\u001b[0m\u001b[0m\n\u001b[1;32m     13\u001b[0m \u001b[0;34m\u001b[0m\u001b[0m\n\u001b[0;32m---> 14\u001b[0;31m \u001b[0mos\u001b[0m\u001b[0;34m.\u001b[0m\u001b[0mchdir\u001b[0m\u001b[0;34m(\u001b[0m\u001b[0;34m'/var/www/quant/applied_finance'\u001b[0m\u001b[0;34m)\u001b[0m\u001b[0;34m\u001b[0m\u001b[0m\n\u001b[0m\u001b[1;32m     15\u001b[0m \u001b[0mprint\u001b[0m\u001b[0;34m(\u001b[0m\u001b[0mos\u001b[0m\u001b[0;34m.\u001b[0m\u001b[0mgetcwd\u001b[0m\u001b[0;34m(\u001b[0m\u001b[0;34m)\u001b[0m\u001b[0;34m)\u001b[0m\u001b[0;34m\u001b[0m\u001b[0m\n\u001b[1;32m     16\u001b[0m \u001b[0;31m#import pathlib\u001b[0m\u001b[0;34m\u001b[0m\u001b[0;34m\u001b[0m\u001b[0m\n",
      "\u001b[0;31mFileNotFoundError\u001b[0m: [Errno 2] No such file or directory: '/var/www/quant/applied_finance'"
     ]
    }
   ],
   "source": [
    "import ipywidgets as widgets\n",
    "import subprocess\n",
    "subprocess.run([\"pip3\", \"install\", \"matplotlib\"], capture_output=True)\n",
    "import matplotlib.pyplot as plt\n",
    "from ipywidgets import interact\n",
    "from ipywidgets import fixed\n",
    "import calculate_return\n",
    "import sys\n",
    "sys.path.append('/usr/local/lib/python3.7/dist-packages')\n",
    "sys.path.append('/var/www/quant')\n",
    "sys.path.append('/var/www/quant/')\n",
    "import os\n",
    "\n",
    "os.chdir('/var/www/quant/applied_finance')\n",
    "print(os.getcwd())\n",
    "#import pathlib\n",
    "#print(pathlib.Path().absolute())\n",
    "\n",
    "\n",
    "def plot_sims(y, sim_type, random_seeds, BEGINNING_SAVINGS = 9041,\n",
    "                   YEARLY_INFL_ADJUSTMENT = 0.0, PAY_TAXES = True, YEARS = 60, GAMMA = 2.5,\n",
    "                   YEARLY_RF = 0.02, YEARLY_MR = 0.04, COST = 0.002,\n",
    "                   SIGMA = 0.02837, MR = 0.076):\n",
    "    \n",
    "    ports = calculate_return.fetch_returns(sim_type, random_seeds, BEGINNING_SAVINGS,\n",
    "                   YEARLY_INFL_ADJUSTMENT, PAY_TAXES, YEARS, GAMMA,\n",
    "                   YEARLY_RF, YEARLY_MR, COST,\n",
    "                   SIGMA, MR)\n",
    "    \n",
    "    ports = ports.groupby(level=0).mean()\n",
    "    #ports = np.linspace(2, 10)\n",
    "    fig, ax= plt.subplots(1, 1, figsize=(10,7))\n",
    "    ax.plot(ports.loc[:,[*y]])\n",
    "    ax.legend([*y])\n",
    "    #ax.plot(ports)\n",
    "    #ax.legend([*y])\n",
    "    plt.show()\n",
    "\n",
    "interactive_plot = interact(plot_sims, y=fixed(['tv_u', '100', '9050']), sim_type = ['garch', 't', 'norm', 'draw'],\n",
    "                                                               random_seeds = fixed(range(15)), \n",
    "                           BEGINNING_SAVINGS = range(6000, 20000, 1000),\n",
    "                   YEARLY_INFL_ADJUSTMENT = (0, 0.05, 0.01), PAY_TAXES = True, YEARS = (20, 60, 10), GAMMA = (1, 2.5, 0.1),\n",
    "                   YEARLY_RF = (0, 0.04, 0.005), YEARLY_MR = (0.03, 0.08, 0.005), COST=(0, 0.01, 0.001),\n",
    "                   SIGMA = fixed(0.02837), MR = fixed(0.076))\n",
    "interactive_plot"
   ]
  },
  {
   "cell_type": "code",
   "execution_count": null,
   "metadata": {},
   "outputs": [],
   "source": []
  }
 ],
 "metadata": {
  "kernelspec": {
   "display_name": "Python 3",
   "language": "python",
   "name": "python3"
  },
  "language_info": {
   "codemirror_mode": {
    "name": "ipython",
    "version": 3
   },
   "file_extension": ".py",
   "mimetype": "text/x-python",
   "name": "python",
   "nbconvert_exporter": "python",
   "pygments_lexer": "ipython3",
   "version": "3.7.0"
  }
 },
 "nbformat": 4,
 "nbformat_minor": 4
}
